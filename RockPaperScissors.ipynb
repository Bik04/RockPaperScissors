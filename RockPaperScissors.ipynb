{
 "cells": [
  {
   "cell_type": "markdown",
   "metadata": {},
   "source": [
    "# Rock paper scissors \n",
    "Basic idea of the game\n",
    "- Allows the player to choose rock, paper, or scissors\n",
    "- Plays against the computer \n",
    "- Keeps track of score (tie means nobody wins)\n",
    "- Can start a new game with reset score of 0"
   ]
  },
  {
   "cell_type": "code",
   "execution_count": 2,
   "metadata": {},
   "outputs": [],
   "source": [
    "# load in the random library, we will need it later for the computer choice\n",
    "import random"
   ]
  },
  {
   "cell_type": "code",
   "execution_count": 3,
   "metadata": {},
   "outputs": [],
   "source": [
    "# create a list of choices the computer can choose from\n",
    "choices = ['rock', 'paper', 'scissors']"
   ]
  },
  {
   "cell_type": "code",
   "execution_count": 4,
   "metadata": {},
   "outputs": [],
   "source": [
    "# let's define our class\n",
    "class game():\n",
    "    \n",
    "    # we will initialize our class with score and name. This will run whenever we initialize our class ( eg: play = game() )\n",
    "    def __init__(self, name = 'Player'):\n",
    "        # we will initialize where our player name is default to \"Player\". They can enter their name in as an argument during intializing ( eg: play=game('Bowen') ) \n",
    "        self.name = name\n",
    "        # player score\n",
    "        self.score = 0\n",
    "        # computer score\n",
    "        self.computer = 0\n",
    "        # print out some messages when we first instantiate the game\n",
    "        print(f'Welcome {name}')\n",
    "        print (\"Use the methods .rock(), .paper(), .scissors() to play!\")\n",
    "        \n",
    "        \n",
    "    # rock method\n",
    "    def rock(self):\n",
    "        # get the computers' randomized choice\n",
    "        opponent = random.choice(choices)\n",
    "        \n",
    "        # Score and return the win/lose/tie result\n",
    "        if opponent == 'paper':\n",
    "            self.computer += 1\n",
    "            return f\"Computer chose {opponent}, you lose!\"\n",
    "        elif opponent == \"scissors\":\n",
    "            self.score += 1\n",
    "            return f\"Computer chose {opponent}, you win!\"\n",
    "        else:\n",
    "            return f\"Computer chose {opponent}, it's a tie!\"\n",
    "    \n",
    "    # paper method\n",
    "    def paper(self):\n",
    "        opponent = random.choice(choices)\n",
    "        \n",
    "        # Score and return the win/lose/tie result\n",
    "        if opponent == 'scissors':\n",
    "            self.computer += 1\n",
    "            return f\"Computer chose {opponent}, you lose!\"\n",
    "        elif opponent == \"rock\":\n",
    "            self.score += 1\n",
    "            return f\"Computer chose {opponent}, you win!\"\n",
    "        else:\n",
    "            return f\"Computer chose {opponent}, it's a tie!\"\n",
    "        \n",
    "    # scissors method\n",
    "    def scissors(self):\n",
    "        opponent = random.choice(choices)\n",
    "        \n",
    "        # Score and return the win/lose/tie result\n",
    "        if opponent == 'rock':\n",
    "            self.computer += 1\n",
    "            return f\"Computer chose {opponent}, you lose!\"\n",
    "        elif opponent == \"paper\":\n",
    "            self.score += 1\n",
    "            return f\"Computer chose {opponent}, you win!\"\n",
    "        else:\n",
    "            return f\"Computer chose {opponent}, tie!\"\n",
    "        \n",
    "    \n",
    "    \n",
    "    # return the scoreboard\n",
    "    def scoreboard(self):\n",
    "        player_score = self.score\n",
    "        computer_score = self.computer\n",
    "        return f\"{self.name} : {player_score}  | Computer : {computer_score}\"\n",
    "    \n",
    "    \n",
    "    # start a new game which just clears the scores\n",
    "    def newgame(self):\n",
    "        # reset the scores\n",
    "        self.score = 0\n",
    "        self.computer = 0\n",
    "        return \"Scoreboard is reset. New game begins\"\n",
    "        "
   ]
  },
  {
   "cell_type": "markdown",
   "metadata": {},
   "source": [
    "## Let's play!"
   ]
  },
  {
   "cell_type": "code",
   "execution_count": 5,
   "metadata": {},
   "outputs": [
    {
     "name": "stdout",
     "output_type": "stream",
     "text": [
      "Welcome Bikram\n",
      "Use the methods .rock(), .paper(), .scissors() to play!\n"
     ]
    }
   ],
   "source": [
    "# instantiate with player name as Bowen\n",
    "play = game('Bikram')"
   ]
  },
  {
   "cell_type": "code",
   "execution_count": 6,
   "metadata": {},
   "outputs": [
    {
     "data": {
      "text/plain": [
       "'Computer chose scissors, you lose!'"
      ]
     },
     "execution_count": 6,
     "metadata": {},
     "output_type": "execute_result"
    }
   ],
   "source": [
    "# round 1\n",
    "play.paper()"
   ]
  },
  {
   "cell_type": "code",
   "execution_count": 7,
   "metadata": {},
   "outputs": [
    {
     "data": {
      "text/plain": [
       "'Computer chose scissors, you win!'"
      ]
     },
     "execution_count": 7,
     "metadata": {},
     "output_type": "execute_result"
    }
   ],
   "source": [
    "# round 2\n",
    "play.rock()"
   ]
  },
  {
   "cell_type": "code",
   "execution_count": 8,
   "metadata": {},
   "outputs": [
    {
     "data": {
      "text/plain": [
       "'Computer chose rock, you lose!'"
      ]
     },
     "execution_count": 8,
     "metadata": {},
     "output_type": "execute_result"
    }
   ],
   "source": [
    "#round 3\n",
    "play.scissors()"
   ]
  },
  {
   "cell_type": "code",
   "execution_count": 9,
   "metadata": {},
   "outputs": [
    {
     "data": {
      "text/plain": [
       "'Bikram : 1  | Computer : 2'"
      ]
     },
     "execution_count": 9,
     "metadata": {},
     "output_type": "execute_result"
    }
   ],
   "source": [
    "# check score\n",
    "play.scoreboard()"
   ]
  },
  {
   "cell_type": "code",
   "execution_count": 10,
   "metadata": {},
   "outputs": [
    {
     "data": {
      "text/plain": [
       "'Scoreboard is reset. New game begins'"
      ]
     },
     "execution_count": 10,
     "metadata": {},
     "output_type": "execute_result"
    }
   ],
   "source": [
    "# start a new game\n",
    "play.newgame()"
   ]
  },
  {
   "cell_type": "code",
   "execution_count": 12,
   "metadata": {},
   "outputs": [
    {
     "data": {
      "text/plain": [
       "'Bikram : 0  | Computer : 0'"
      ]
     },
     "execution_count": 12,
     "metadata": {},
     "output_type": "execute_result"
    }
   ],
   "source": [
    "# check the scoreboard\n",
    "play.scoreboard()"
   ]
  },
  {
   "cell_type": "code",
   "execution_count": 17,
   "metadata": {},
   "outputs": [
    {
     "data": {
      "text/plain": [
       "'Computer chose paper, you win!'"
      ]
     },
     "execution_count": 17,
     "metadata": {},
     "output_type": "execute_result"
    }
   ],
   "source": [
    "# new round, let's start again\n",
    "play.scissors()"
   ]
  },
  {
   "cell_type": "code",
   "execution_count": 18,
   "metadata": {},
   "outputs": [
    {
     "data": {
      "text/plain": [
       "'Bikram : 1  | Computer : 0'"
      ]
     },
     "execution_count": 18,
     "metadata": {},
     "output_type": "execute_result"
    }
   ],
   "source": [
    "play.scoreboard()"
   ]
  }
 ],
 "metadata": {
  "kernelspec": {
   "display_name": "Python 3",
   "language": "python",
   "name": "python3"
  },
  "language_info": {
   "codemirror_mode": {
    "name": "ipython",
    "version": 3
   },
   "file_extension": ".py",
   "mimetype": "text/x-python",
   "name": "python",
   "nbconvert_exporter": "python",
   "pygments_lexer": "ipython3",
   "version": "3.8.5"
  },
  "toc": {
   "base_numbering": 1,
   "nav_menu": {},
   "number_sections": true,
   "sideBar": true,
   "skip_h1_title": false,
   "title_cell": "Table of Contents",
   "title_sidebar": "Contents",
   "toc_cell": false,
   "toc_position": {},
   "toc_section_display": true,
   "toc_window_display": false
  },
  "varInspector": {
   "cols": {
    "lenName": 16,
    "lenType": 16,
    "lenVar": 40
   },
   "kernels_config": {
    "python": {
     "delete_cmd_postfix": "",
     "delete_cmd_prefix": "del ",
     "library": "var_list.py",
     "varRefreshCmd": "print(var_dic_list())"
    },
    "r": {
     "delete_cmd_postfix": ") ",
     "delete_cmd_prefix": "rm(",
     "library": "var_list.r",
     "varRefreshCmd": "cat(var_dic_list()) "
    }
   },
   "types_to_exclude": [
    "module",
    "function",
    "builtin_function_or_method",
    "instance",
    "_Feature"
   ],
   "window_display": false
  }
 },
 "nbformat": 4,
 "nbformat_minor": 4
}
